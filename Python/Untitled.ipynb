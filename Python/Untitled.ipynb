{
 "cells": [
  {
   "cell_type": "code",
   "execution_count": 7,
   "metadata": {},
   "outputs": [
    {
     "name": "stdout",
     "output_type": "stream",
     "text": [
      "aaa\n",
      "aaa\n",
      "\n"
     ]
    }
   ],
   "source": [
    "# 进程与线程初识\n",
    "import multiprocessing as mp\n",
    "import threading as td\n",
    "\n",
    "def job(a,d):\n",
    "    print('aaa')\n",
    "    \n",
    "t1 = td.Thread(target=job, args=(1,2))\n",
    "p1 = mp.Process(target=job, args=(1,2,))\n",
    "\n",
    "if __name__ == '__main__':\n",
    "    t1.start()\n",
    "    p1.start()\n",
    "    t1.join()\n",
    "    p1.join()"
   ]
  },
  {
   "cell_type": "code",
   "execution_count": 14,
   "metadata": {},
   "outputs": [
    {
     "name": "stdout",
     "output_type": "stream",
     "text": [
      "multicore: 499999666667166666000000\n"
     ]
    }
   ],
   "source": [
    "import multiprocessing as mp\n",
    "import threading as td\n",
    "def job(q):\n",
    "    res =0\n",
    "    for i in range(1000000):\n",
    "        res += i + i ** 2 + i ** 3\n",
    "    q.put(res)\n",
    "    \n",
    "if __name__ == '__main__':\n",
    "    q = mp.Queue()\n",
    "    p1 = mp.Process(target=job, args=(q,))\n",
    "    p2 = mp.Process(target=job, args=(q,))\n",
    "    p1.start()\n",
    "    p2.start()\n",
    "    p1.join()\n",
    "    p2.join()\n",
    "    res1=q.get()\n",
    "    res2=q.get()\n",
    "    print('multicore:',res1+res2)"
   ]
  },
  {
   "cell_type": "code",
   "execution_count": null,
   "metadata": {
    "collapsed": true
   },
   "outputs": [],
   "source": []
  }
 ],
 "metadata": {
  "kernelspec": {
   "display_name": "Python 3",
   "language": "python",
   "name": "python3"
  },
  "language_info": {
   "codemirror_mode": {
    "name": "ipython",
    "version": 3
   },
   "file_extension": ".py",
   "mimetype": "text/x-python",
   "name": "python",
   "nbconvert_exporter": "python",
   "pygments_lexer": "ipython3",
   "version": "3.6.8"
  }
 },
 "nbformat": 4,
 "nbformat_minor": 2
}
