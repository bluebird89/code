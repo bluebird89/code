{
 "cells": [
  {
   "cell_type": "code",
   "execution_count": 7,
   "metadata": {},
   "outputs": [
    {
     "name": "stdout",
     "output_type": "stream",
     "text": [
      "aaa\n",
      "aaa\n",
      "\n"
     ]
    }
   ],
   "source": [
    "# 进程与线程初识\n",
    "import multiprocessing as mp\n",
    "import threading as td\n",
    "\n",
    "def job(a,d):\n",
    "    print('aaa')\n",
    "    \n",
    "t1 = td.Thread(target=job, args=(1,2))\n",
    "p1 = mp.Process(target=job, args=(1,2,))\n",
    "\n",
    "if __name__ == '__main__':\n",
    "    t1.start()\n",
    "    p1.start()\n",
    "    t1.join()\n",
    "    p1.join()"
   ]
  },
  {
   "cell_type": "code",
   "execution_count": 15,
   "metadata": {},
   "outputs": [
    {
     "name": "stdout",
     "output_type": "stream",
     "text": [
      "multicore: 499999666667166666000000\n"
     ]
    }
   ],
   "source": [
    "# 输出结果存放至Queue\n",
    "import multiprocessing as mp\n",
    "\n",
    "def job(q):\n",
    "    res =0\n",
    "    for i in range(1000000):\n",
    "        res += i + i ** 2 + i ** 3\n",
    "    q.put(res)\n",
    "    \n",
    "if __name__ == '__main__':\n",
    "    q = mp.Queue()\n",
    "    p1 = mp.Process(target=job, args=(q,))\n",
    "    p2 = mp.Process(target=job, args=(q,))\n",
    "    p1.start()\n",
    "    p2.start()\n",
    "    p1.join()\n",
    "    p2.join()\n",
    "    res1=q.get()\n",
    "    res2=q.get()\n",
    "    print('multicore:',res1+res2)"
   ]
  },
  {
   "cell_type": "code",
   "execution_count": 17,
   "metadata": {},
   "outputs": [
    {
     "name": "stdout",
     "output_type": "stream",
     "text": [
      "normal: 499999666667166666000000\n",
      "normal time: 1.2207930088043213\n",
      "multithread: 499999666667166666000000\n",
      "multithread time: 1.3046579360961914\n",
      "multicore: 499999666667166666000000\n",
      "multicore time: 0.6932880878448486\n"
     ]
    }
   ],
   "source": [
    "# 效率对比\n",
    "import multiprocessing as mp\n",
    "import threading as td\n",
    "import time\n",
    "\n",
    "# 多核/多进程\n",
    "def multicore():\n",
    "    q = mp.Queue()\n",
    "    p1 = mp.Process(target=job, args=(q,))\n",
    "    p2 = mp.Process(target=job, args=(q,))\n",
    "    p1.start()\n",
    "    p2.start()\n",
    "    p1.join()\n",
    "    p2.join()\n",
    "    res1=q.get()\n",
    "    res2=q.get()\n",
    "    print('multicore:',res1+res2)\n",
    "\n",
    "# 多线程\n",
    "def multithread():\n",
    "    q = mp.Queue()\n",
    "    t1 = td.Thread(target=job, args=(q,))\n",
    "    t2 = td.Thread(target=job, args=(q,))\n",
    "    t1.start()\n",
    "    t2.start()\n",
    "    t1.join()\n",
    "    t2.join()\n",
    "    res1 = q.get()\n",
    "    res2 = q.get()\n",
    "    print('multithread:', res1 + res2)\n",
    "\n",
    "def normal():\n",
    "    res = 0\n",
    "    for _ in range(2):\n",
    "        for i in range(1000000):\n",
    "            res += i + i ** 2 + i ** 3\n",
    "    print('normal:',res)\n",
    "    \n",
    "if __name__ == '__main__':\n",
    "     st = time.time()\n",
    "     normal()\n",
    "     st1 = time.time()\n",
    "     print('normal time:', st1 - st)\n",
    "     multithread()\n",
    "     st2 = time.time()\n",
    "     print('multithread time:', st2 - st1)\n",
    "     multicore()\n",
    "     st3 = time.time()\n",
    "     print('multicore time:', st3 - st2)"
   ]
  },
  {
   "cell_type": "code",
   "execution_count": 18,
   "metadata": {},
   "outputs": [
    {
     "name": "stdout",
     "output_type": "stream",
     "text": [
      "[0, 1, 4, 9, 16, 25, 36, 49, 64, 81]\n",
      "4\n",
      "[0, 1, 4, 9, 16, 25, 36, 49, 64, 81]\n"
     ]
    }
   ],
   "source": [
    "# 进程池\n",
    "import multiprocessing as mp\n",
    "\n",
    "def job(x):\n",
    "    return x*x\n",
    "\n",
    "def multicore():\n",
    "    '''\n",
    "    Pool默认调用是CPU的核数,传入processes可自定义CPU核数\n",
    "    map()放入迭代参数,返回多个结果\n",
    "    apply_async()只能放入一组参数,并返回一个结果,如果想得到map()的效果需要通过迭代\n",
    "    '''\n",
    "    pool = mp.Pool(processes=2)\n",
    "    res = pool.map(job, range(10))\n",
    "    print(res)\n",
    "    '''\n",
    "    apply_async()只能传递一个值，它只会放入一个核进行运算，传入的值因为必须是可迭代的，\n",
    "    所以在传入值后需要加逗号，同时需要用get()方法获取返回值。\n",
    "    '''\n",
    "    res = pool.apply_async(job, (2,))\n",
    "    multi_res = [pool.apply_async(job, (i,)) for i in range(10)]\n",
    "    print(res.get()) # 获取单个结果\n",
    "    print([res.get() for res in multi_res]) # 获取多个结果\n",
    "\n",
    "if __name__ == '__main__':\n",
    "    multicore()"
   ]
  },
  {
   "cell_type": "code",
   "execution_count": 19,
   "metadata": {
    "collapsed": true
   },
   "outputs": [],
   "source": [
    "# 共享内存\n",
    "import multiprocessing as mp\n",
    "\n",
    "'''\n",
    "使用Value数据存储在一个共享的内存表中\n",
    "d表示一个双精浮点类型，i表示一个带符号的整型\n",
    "'''\n",
    "value1 = mp.Value('i', 0)\n",
    "value2 = mp.Value('d', 3.14)\n",
    "\n",
    "'''\n",
    "Array类，可以和共享内存交互，来实现在进程之间共享数据。\n",
    "这里的Array和numpy中的不同，它只能是一维的，不能是多维的。\n",
    "同样和Value 一样，需要定义数据形式，否则会报错。\n",
    "'''\n",
    "array = mp.Array('i', [1,2,3,4])"
   ]
  },
  {
   "cell_type": "code",
   "execution_count": 20,
   "metadata": {},
   "outputs": [
    {
     "name": "stdout",
     "output_type": "stream",
     "text": [
      "1\n",
      "4\n",
      "5\n",
      "8\n",
      "9\n",
      "12\n",
      "13\n",
      "16\n",
      "17\n",
      "20\n"
     ]
    }
   ],
   "source": [
    "# 进程锁\n",
    "# 不同进程争夺资源\n",
    "import multiprocessing as mp\n",
    "import time\n",
    "def job(v, num):\n",
    "    for _ in range(5):\n",
    "        time.sleep(0.1)\n",
    "        v.value += num\n",
    "        print(v.value,end=\"\\n\")\n",
    "\n",
    "def multicore():\n",
    "    v = mp.Value('i',0) # 定义共享变量\n",
    "    p1 = mp.Process(target=job, args=(v,1))\n",
    "    p2 = mp.Process(target=job, args=(v,3)) # 设定不同的number看如何抢夺内存\n",
    "    p1.start()\n",
    "    p2.start()\n",
    "    p1.join()\n",
    "    p2.join()\n",
    "\n",
    "if __name__ == '__main__':\n",
    "    multicore()"
   ]
  },
  {
   "cell_type": "markdown",
   "metadata": {},
   "source": [
    "### 通过锁机制解决争夺资源问题"
   ]
  },
  {
   "cell_type": "code",
   "execution_count": 21,
   "metadata": {},
   "outputs": [
    {
     "name": "stdout",
     "output_type": "stream",
     "text": [
      "1\n",
      "2\n",
      "3\n",
      "4\n",
      "5\n",
      "8\n",
      "11\n",
      "14\n",
      "17\n",
      "20\n"
     ]
    }
   ],
   "source": [
    "import multiprocessing as mp\n",
    "import time\n",
    "def job(v, num, l):\n",
    "    l.acquire() # 锁住\n",
    "    for _ in range(5):\n",
    "        time.sleep(0.1)\n",
    "        v.value += num\n",
    "        print(v.value,end=\"\\n\")\n",
    "    l.release() # 释放\n",
    "\n",
    "def multicore():\n",
    "    l = mp.Lock() # 定义一个进程锁\n",
    "    v = mp.Value('i',0) # 定义共享变量\n",
    "    p1 = mp.Process(target=job, args=(v,1,l)) # 需要将lock传入\n",
    "    p2 = mp.Process(target=job, args=(v,3,l)) # 设定不同的number看如何抢夺内存\n",
    "    p1.start()\n",
    "    p2.start()\n",
    "    p1.join()\n",
    "    p2.join()\n",
    "\n",
    "if __name__ == '__main__':\n",
    "    multicore()"
   ]
  },
  {
   "cell_type": "code",
   "execution_count": null,
   "metadata": {
    "collapsed": true
   },
   "outputs": [],
   "source": []
  }
 ],
 "metadata": {
  "kernelspec": {
   "display_name": "Python 3",
   "language": "python",
   "name": "python3"
  },
  "language_info": {
   "codemirror_mode": {
    "name": "ipython",
    "version": 3
   },
   "file_extension": ".py",
   "mimetype": "text/x-python",
   "name": "python",
   "nbconvert_exporter": "python",
   "pygments_lexer": "ipython3",
   "version": "3.6.8"
  }
 },
 "nbformat": 4,
 "nbformat_minor": 2
}
