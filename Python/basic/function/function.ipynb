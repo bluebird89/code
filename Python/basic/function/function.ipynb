{
 "cells": [
  {
   "cell_type": "markdown",
   "metadata": {},
   "source": [
    "#### Funtion\n",
    "\n",
    "* 为实现某一功能的代码段，写好后可以重复利用,返回的都是一个函数对象（function object）\n",
    "* 语法\n",
    "    * def 是函数的声明\n",
    "    * my_func 是函数的名称\n",
    "    * 括号里面的 message 则是函数的参数\n",
    "    * print 行则是函数的主体部分，可以执行相应的语句\n",
    "    * 函数最后，可以返回调用结果（return 或 yield），也可以不返回\n",
    "    * def 是可执行语句，意味着函数直到被调用前，都是不存在的。当程序调用函数时，def 语句才会创建一个新的函数对象，并赋予其名字\n",
    "    * 参数可以设定默认值\n",
    "* 调用函数时，必须保证这个函数此前已经定义过，不然就会报错\n",
    "* 在函数内部调用其他函数，函数间哪个声明在前、哪个在后就无所谓，因为 def 是可执行语句，函数在调用之前都不存在，只需保证调用时，所需的函数都已经声明定义\n",
    "* Python 是 dynamically typed 的，可以接受任何数据类型（整型，浮点，字符串等等）,同样的一个函数（比如这边的相加函数 my_sum()），可以同时应用在整型、列表、字符串等等的操作中\n",
    "    - 必要时请在开头加上数据的类型检查\n",
    "* 函数嵌套:指函数里面又有函数\n",
    "    - 能够保证内部函数的隐私。内部函数只能被外部函数所调用和访问，不会暴露在全局作用域.函数内部有一些隐私数据（比如数据库的用户、密码等），不想暴露在外，那你就可以使用函数的的嵌套\n",
    "    - 合理的使用函数嵌套，能够提高程序的运行效率，将服用代码中的公用或不需要每次执行代码提取到外层\n",
    "* 传参:python只有引用传递\n",
    "    - 全局变量传入函数，内部新建数据。外部的是不会受影响\n",
    "    - 如果是列表，支持本地操作，外部和内部的变量指向同一个列表的话，那么内部变量进行append等本地操作是会影响外部\n",
    "* 作用域\n",
    "    - 寻找变量的时候，会按照本地作用域、闭包、全局、内置这种顺序去查找\n",
    "    - 局部变量：变量是在函数内部定义的，只在函数内部有效。一旦函数执行完毕，局部变量就会被回收，无法访问\n",
    "    - 全局变量：定义在整个文件层次上，可以在文件内的任何地方被访问，不能在函数内部随意改变全局变量的值\n",
    "    - 一定要在函数内部改变全局变量的值，对于immutable类型，一定要使用global关键字，表示外部的变量和函数内部的变量是同一个变量，如果是mutable类型，比如list、dict，支持本地修改的话，那么可以不用使用global关键字，因为它们支持本地修改\n",
    "    - 如果遇到函数内部局部变量和全局变量同名的情况，那么在函数内部，局部变量会覆盖全局变量\n",
    "    - 对于嵌套函数来说，内部函数可以访问外部函数定义的变量，但是无法修改，若要修改，必须加上 nonlocal 这个关键字"
   ]
  },
  {
   "cell_type": "code",
   "execution_count": 1,
   "metadata": {},
   "outputs": [
    {
     "ename": "SyntaxError",
     "evalue": "invalid syntax (<ipython-input-1-4dab299dcedb>, line 1)",
     "output_type": "error",
     "traceback": [
      "\u001b[0;36m  File \u001b[0;32m\"<ipython-input-1-4dab299dcedb>\"\u001b[0;36m, line \u001b[0;32m1\u001b[0m\n\u001b[0;31m    def name(param1 = default, param2, ..., paramN):\u001b[0m\n\u001b[0m                                         ^\u001b[0m\n\u001b[0;31mSyntaxError\u001b[0m\u001b[0;31m:\u001b[0m invalid syntax\n"
     ]
    }
   ],
   "source": [
    "def name(param1 = default, param2, ..., paramN):\n",
    "    statements\n",
    "    return/yield value # optional"
   ]
  },
  {
   "cell_type": "code",
   "execution_count": 3,
   "metadata": {},
   "outputs": [
    {
     "name": "stdout",
     "output_type": "stream",
     "text": [
      "hello\n",
      "world\n"
     ]
    }
   ],
   "source": [
    "def f1():\n",
    "    print('hello')\n",
    "    def f2():\n",
    "        print('world')\n",
    "    f2()\n",
    "f1()"
   ]
  },
  {
   "cell_type": "code",
   "execution_count": 4,
   "metadata": {},
   "outputs": [
    {
     "name": "stdout",
     "output_type": "stream",
     "text": [
      "120\n"
     ]
    }
   ],
   "source": [
    "# 输入是否合法就只用检查一次\n",
    "def factorial(input):\n",
    "    # validation check\n",
    "    if not isinstance(input, int):\n",
    "        raise Exception('input must be an integer.')\n",
    "    if input < 0:\n",
    "        raise Exception('input must be greater or equal to 0' )\n",
    "\n",
    "    def inner_factorial(input):\n",
    "        if input <= 1:\n",
    "            return 1\n",
    "        return input * inner_factorial(input-1)\n",
    "    return inner_factorial(input)\n",
    "\n",
    "\n",
    "print(factorial(5))"
   ]
  },
  {
   "cell_type": "code",
   "execution_count": 7,
   "metadata": {},
   "outputs": [
    {
     "data": {
      "text/plain": [
       "2"
      ]
     },
     "execution_count": 7,
     "metadata": {},
     "output_type": "execute_result"
    }
   ],
   "source": [
    "MIN_VALUE = 1\n",
    "MAX_VALUE = 10\n",
    "def validation_check(value):\n",
    "    global MIN_VALUE\n",
    "    MIN_VALUE += 1\n",
    "\n",
    "validation_check(5)\n",
    "MIN_VALUE"
   ]
  },
  {
   "cell_type": "markdown",
   "metadata": {},
   "source": [
    "##### 闭包（closure）\n",
    "\n",
    "* 外部函数返回的是一个函数\n",
    "* 外部函数 nth_power() 的参数 exponent，仍然会被内部函数 exponent_of() 记住\n",
    "* 特点\n",
    "    - 让程序变得更简洁易读，将公用参数提取封装一种公用状态\n",
    "    - 将那些额外工作的代码放在外部函数，就可以减少多次调用导致的不必要的开销，提高程序的运行效率"
   ]
  },
  {
   "cell_type": "code",
   "execution_count": null,
   "metadata": {},
   "outputs": [],
   "source": [
    "def nth_power(exponent):\n",
    "    def exponent_of(base):\n",
    "        return base ** exponent\n",
    "    return exponent_of # 返回值是exponent_of函数\n",
    "\n",
    "square = nth_power(2) # 计算一个数的平方\n",
    "cube = nth_power(3) # 计算一个数的立方 \n",
    "square\n",
    "cube\n",
    "\n",
    "print(square(2))  # 计算2的平方\n",
    "print(cube(2)) # 计算2的立方"
   ]
  },
  {
   "cell_type": "markdown",
   "metadata": {},
   "source": [
    "##### 匿名函数 lamba\n",
    "\n",
    "* 关键字是 lambda，之后是一系列的参数，然后用冒号隔开，最后则是由这些参数组成的表达式\n",
    "* 需要一个函数，但非常简短，只需要一行就能完成；同时在程序中只被调用一次而已\n",
    "* 与函数不同\n",
    "    - lambda 是一个表达式（expression），并不是一个语句（statement）,lambda 可以用在一些常规函数 def 不能用的地方，比如，lambda 可以用在列表内部，而常规函数却不能\n",
    "        + 表达式:用一系列“公式”去表达一个东西\n",
    "        + 语句:一定是完成了某些功能\n",
    "    - lambda 的主体是只有一行的简单表达式，并不能扩展成一个多行的代码块.lambda 专注于简单的任务，而常规函数则负责更复杂的多行逻辑\n",
    "* 在和高阶函数、列表生成式搭配使用\n",
    "* 要传入的参数是一个可迭代的对象，lambda 内部会调用可迭代对象的 __next__ 方法取值当作参数传入 lambda 函数冒号前面的值，然后把表达式计算的结果进行返回。"
   ]
  },
  {
   "cell_type": "code",
   "execution_count": 8,
   "metadata": {},
   "outputs": [
    {
     "data": {
      "text/plain": [
       "9"
      ]
     },
     "execution_count": 8,
     "metadata": {},
     "output_type": "execute_result"
    }
   ],
   "source": [
    "square = lambda x: x**2\n",
    "square(3)"
   ]
  },
  {
   "cell_type": "code",
   "execution_count": 11,
   "metadata": {},
   "outputs": [
    {
     "name": "stdout",
     "output_type": "stream",
     "text": [
      "[(2, -1), (3, 0), (9, 10), (1, 20)]\n"
     ]
    }
   ],
   "source": [
    "l = [(1, 20), (3, 0), (9, 10), (2, -1)]\n",
    "l.sort(key=lambda x: x[1])\n",
    "print(l)"
   ]
  },
  {
   "cell_type": "markdown",
   "metadata": {},
   "source": [
    "##### 函数式编程\n",
    "\n",
    "* 代码中每一块都是不可变的（immutable），都由纯函数（pure function）的形式组成\n",
    "* 纯函数:函数本身相互独立、互不影响，对于相同的输入，总会有相同的输出，没有任何副作用\n",
    "* 优点:其纯函数和不可变的特性使程序更加健壮，易于调试（debug）和测试\n",
    "* 缺点:限制多，难写\n",
    "* map():对 iterable 中的每个元素，都运用 function 这个函数，最后返回一个新的可遍历的集合. 函数直接由 C 语言写的，运行时不需要通过 Python 解释器间接调用，并且内部做了诸多优化，所以运行速度最快\n",
    "* filter() 函数表示对 iterable 中的每个元素，都使用 function 判断，并返回 True 或者 False，最后将返回 True 的元素组成一个新的可遍历的集合\n",
    "* reduce(function, iterable):对一个集合做一些累积操作,function 同样是一个函数对象，规定它有两个参数，表示对 iterable 中的每个元素以及上一次调用后的结果，运用 function 进行计算，所以最后返回的是一个单独的数值"
   ]
  },
  {
   "cell_type": "code",
   "execution_count": 20,
   "metadata": {},
   "outputs": [],
   "source": [
    "l = [1, 2, 3, 4, 5]\n",
    "squared = map(lambda x: x**2, l)"
   ]
  },
  {
   "cell_type": "code",
   "execution_count": 22,
   "metadata": {},
   "outputs": [],
   "source": [
    "new_list = filter(lambda x: x % 2 == 0, l) # [2, 4]"
   ]
  },
  {
   "cell_type": "code",
   "execution_count": 25,
   "metadata": {},
   "outputs": [
    {
     "ename": "NameError",
     "evalue": "name 'reduce' is not defined",
     "output_type": "error",
     "traceback": [
      "\u001b[0;31m---------------------------------------------------------------------------\u001b[0m",
      "\u001b[0;31mNameError\u001b[0m                                 Traceback (most recent call last)",
      "\u001b[0;32m<ipython-input-25-19be93358f83>\u001b[0m in \u001b[0;36m<module>\u001b[0;34m\u001b[0m\n\u001b[0;32m----> 1\u001b[0;31m \u001b[0mproduct\u001b[0m \u001b[0;34m=\u001b[0m \u001b[0mreduce\u001b[0m\u001b[0;34m(\u001b[0m\u001b[0;32mlambda\u001b[0m \u001b[0mx\u001b[0m\u001b[0;34m,\u001b[0m \u001b[0my\u001b[0m\u001b[0;34m:\u001b[0m \u001b[0mx\u001b[0m \u001b[0;34m*\u001b[0m \u001b[0my\u001b[0m\u001b[0;34m,\u001b[0m \u001b[0ml\u001b[0m\u001b[0;34m)\u001b[0m\u001b[0;34m\u001b[0m\u001b[0;34m\u001b[0m\u001b[0m\n\u001b[0m",
      "\u001b[0;31mNameError\u001b[0m: name 'reduce' is not defined"
     ]
    }
   ],
   "source": [
    "product = reduce(lambda x, y: x * y, l)"
   ]
  },
  {
   "cell_type": "code",
   "execution_count": null,
   "metadata": {},
   "outputs": [],
   "source": [
    "sorted(d.items(), key=lambda x: x[1], reverse=True)"
   ]
  },
  {
   "cell_type": "markdown",
   "metadata": {},
   "source": [
    "##### 传参\n",
    "\n",
    "* 值传递:拷贝参数的值，然后传递给函数里的新变量\n",
    "* 引用传递:把参数的引用传给新的变量，原变量和新变量就会指向同一块内存地址\n",
    "* Python 的参数传递是赋值传递 （pass by assignment），或者叫作对象的引用传递（pass by object reference）,不是指向一个具体的内存地址，而是指向一个具体的对象\n",
    "* 改变变量和重新赋值的区别\n",
    "* 通过一个函数来改变某个变量的值\n",
    "   - 直接将可变数据类型（比如列表，字典，集合）当作参数传入，直接在其上修改\n",
    "   - 创建一个新变量，来保存修改后的值，然后将其返回给原变量\n",
    "* 不定数量的参数传递给一个函数,只有变量前面的 *(星号)才是必须的\n",
    "    - `*args`: 发送一个非键值对的可变数量的参数列表给一个函数\n",
    "    - `**kwargs`:将不定长度的键值对, 作为参数传递给一个函数,用于处理带名字的参数"
   ]
  },
  {
   "cell_type": "code",
   "execution_count": 1,
   "metadata": {},
   "outputs": [
    {
     "data": {
      "text/plain": [
       "1"
      ]
     },
     "execution_count": 1,
     "metadata": {},
     "output_type": "execute_result"
    }
   ],
   "source": [
    "def my_func1(b):\n",
    "  b = 2\n",
    "\n",
    "a = 1\n",
    "my_func1(a)\n",
    "a"
   ]
  },
  {
   "cell_type": "code",
   "execution_count": 2,
   "metadata": {},
   "outputs": [
    {
     "data": {
      "text/plain": [
       "2"
      ]
     },
     "execution_count": 2,
     "metadata": {},
     "output_type": "execute_result"
    }
   ],
   "source": [
    "def my_func2(b):\n",
    "  b = 2\n",
    "  return b\n",
    "a = 1\n",
    "a = my_func2(a)\n",
    "a"
   ]
  },
  {
   "cell_type": "code",
   "execution_count": 3,
   "metadata": {},
   "outputs": [
    {
     "data": {
      "text/plain": [
       "[1, 2, 3, 4]"
      ]
     },
     "execution_count": 3,
     "metadata": {},
     "output_type": "execute_result"
    }
   ],
   "source": [
    "def my_func3(l2):\n",
    "  l2.append(4)\n",
    "\n",
    "l1 = [1, 2, 3]\n",
    "my_func3(l1)\n",
    "l1"
   ]
  },
  {
   "cell_type": "code",
   "execution_count": 1,
   "metadata": {},
   "outputs": [
    {
     "data": {
      "text/plain": [
       "[1, 2, 3, 4]"
      ]
     },
     "execution_count": 1,
     "metadata": {},
     "output_type": "execute_result"
    }
   ],
   "source": [
    "def my_func4(l2):\n",
    "    l2 = l2 + [4]\n",
    "    return l2\n",
    "\n",
    "\n",
    "l1 = [1, 2, 3]\n",
    "l1 = my_func4(l1)\n",
    "l1"
   ]
  },
  {
   "cell_type": "code",
   "execution_count": 2,
   "metadata": {},
   "outputs": [
    {
     "name": "stdout",
     "output_type": "stream",
     "text": [
      "first normal arg: yasoob\n",
      "another arg through *argv: python\n",
      "another arg through *argv: eggs\n",
      "another arg through *argv: test\n"
     ]
    }
   ],
   "source": [
    "def test_var_args(f_arg, *argv):\n",
    "    print(\"first normal arg:\", f_arg)\n",
    "    for arg in argv:\n",
    "        print(\"another arg through *argv:\", arg)\n",
    "\n",
    "\n",
    "test_var_args('yasoob', 'python', 'eggs', 'test')"
   ]
  },
  {
   "cell_type": "code",
   "execution_count": 6,
   "metadata": {},
   "outputs": [
    {
     "name": "stdout",
     "output_type": "stream",
     "text": [
      "name == henry\n",
      "age == 34\n"
     ]
    }
   ],
   "source": [
    "def greet_me(**kwargs):\n",
    "    for key, value in kwargs.items():\n",
    "        print(\"{0} == {1}\".format(key, value))\n",
    "\n",
    "\n",
    "greet_me(name=\"henry\", age=34)"
   ]
  },
  {
   "cell_type": "code",
   "execution_count": 12,
   "metadata": {},
   "outputs": [
    {
     "name": "stdout",
     "output_type": "stream",
     "text": [
      "arg1: 10\n",
      "arg2: 9\n",
      "arg3: 22\n",
      "arg1: two\n",
      "arg2: 3\n",
      "arg3: 5\n",
      "arg1: 5\n",
      "arg2: two\n",
      "arg3: 3\n"
     ]
    }
   ],
   "source": [
    "def test_args_kwargs(arg1, arg2, arg3):\n",
    "    print(\"arg1:\", arg1)\n",
    "    print(\"arg2:\", arg2)\n",
    "    print(\"arg3:\", arg3)\n",
    "\n",
    "\n",
    "args = (\"two\", 3, 5)\n",
    "kwargs = {\"arg3\": 3, \"arg2\": \"two\", \"arg1\": 5}\n",
    "\n",
    "test_args_kwargs(10, 9, 22)\n",
    "test_args_kwargs(*args)\n",
    "test_args_kwargs(**kwargs)"
   ]
  }
 ],
 "metadata": {
  "kernelspec": {
   "display_name": "Python 3",
   "language": "python",
   "name": "python3"
  },
  "language_info": {
   "codemirror_mode": {
    "name": "ipython",
    "version": 3
   },
   "file_extension": ".py",
   "mimetype": "text/x-python",
   "name": "python",
   "nbconvert_exporter": "python",
   "pygments_lexer": "ipython3",
   "version": "3.7.7"
  },
  "toc": {
   "base_numbering": 1,
   "nav_menu": {},
   "number_sections": true,
   "sideBar": true,
   "skip_h1_title": false,
   "title_cell": "Table of Contents",
   "title_sidebar": "Contents",
   "toc_cell": false,
   "toc_position": {},
   "toc_section_display": true,
   "toc_window_display": false
  },
  "varInspector": {
   "cols": {
    "lenName": 16,
    "lenType": 16,
    "lenVar": 40
   },
   "kernels_config": {
    "python": {
     "delete_cmd_postfix": "",
     "delete_cmd_prefix": "del ",
     "library": "var_list.py",
     "varRefreshCmd": "print(var_dic_list())"
    },
    "r": {
     "delete_cmd_postfix": ") ",
     "delete_cmd_prefix": "rm(",
     "library": "var_list.r",
     "varRefreshCmd": "cat(var_dic_list()) "
    }
   },
   "types_to_exclude": [
    "module",
    "function",
    "builtin_function_or_method",
    "instance",
    "_Feature"
   ],
   "window_display": false
  }
 },
 "nbformat": 4,
 "nbformat_minor": 4
}
