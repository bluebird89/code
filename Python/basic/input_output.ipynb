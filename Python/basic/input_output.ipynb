{
 "cells": [
  {
   "cell_type": "markdown",
   "metadata": {},
   "source": [
    "##### 输入输出\n",
    "\n",
    "* input() 函数暂停程序运行，同时等待键盘输入；直到回车被按下，函数的参数即为提示语，输入的类型永远是字符串型（str）\n",
    "* 对 int 类型没有最大限制（相比之下， C++ 的 int 最大为 2147483647，超过这个数字会产生溢出），但是对 float 类型依然有精度限制"
   ]
  },
  {
   "cell_type": "code",
   "execution_count": 3,
   "metadata": {},
   "outputs": [
    {
     "name": "stdout",
     "output_type": "stream",
     "text": [
      "your name:herny\n",
      "you are a boy?(y/n)\n",
      "authorizing...\n",
      "Welcome to the matrix Mrs herny.\n"
     ]
    }
   ],
   "source": [
    "name = input('your name:')\n",
    "gender = input('you are a boy?(y/n)')\n",
    "\n",
    "welcome_str = 'Welcome to the matrix {prefix} {name}.'\n",
    "welcome_dic = {\n",
    "    'prefix': 'Mr.' if gender == 'y' else 'Mrs',\n",
    "    'name': name\n",
    "}\n",
    "\n",
    "print('authorizing...')\n",
    "print(welcome_str.format(**welcome_dic))\n",
    "\n"
   ]
  },
  {
   "cell_type": "code",
   "execution_count": 19,
   "metadata": {},
   "outputs": [
    {
     "name": "stdout",
     "output_type": "stream",
     "text": [
      "<class 'list'>\n"
     ]
    }
   ],
   "source": [
    "# 简单的 NLP（自然语言处理）任务\n",
    "## 可以给 read 指定参数 size ，用来表示读取的最大长度。还可以通过 readline() 函数，每次读取一行，这种做法常用于数据挖掘（Data Mining）中的数据清洗，在写一些小的程序时非常轻便\n",
    "## with 语句，就不需要显式调用 close()\n",
    "import re\n",
    "\n",
    "\n",
    "def parse(text):\n",
    "    text = re.sub(r'[^\\w]', ' ', text)\n",
    "    text = text.lower()\n",
    "    word_list = text.split(' ')\n",
    "    word_list = filter(None, word_list)\n",
    "\n",
    "    word_cnt = {}\n",
    "    for word in word_list:\n",
    "        if word not in word_cnt:\n",
    "            word_cnt[word] = 0\n",
    "        word_cnt[word] += 1\n",
    "    sorted_word_cnt = sorted(\n",
    "        word_cnt.items(), key=lambda kv: kv[1], reverse=True)\n",
    "\n",
    "    return sorted_word_cnt\n",
    "\n",
    "\n",
    "with open('in.txt', 'r') as fin:\n",
    "    text = fin.read()\n",
    "\n",
    "word_and_freq = parse(text)\n",
    "with open('out.txt', 'w') as fout:\n",
    "    for word,freq in word_and_freq:\n",
    "        fout.write('{} {}\\n'.format(word, freq))"
   ]
  },
  {
   "cell_type": "code",
   "execution_count": 24,
   "metadata": {},
   "outputs": [
    {
     "name": "stdout",
     "output_type": "stream",
     "text": [
      "after json serialization\n",
      "type of params_str = <class 'str'>, params_str = {'symbol': '123456', 'type': 'limit', 'price': 123.4, 'amount': 23}\n",
      "after json deserialization\n",
      "type of original_params = <class 'dict'>, original_params = {'symbol': '123456', 'type': 'limit', 'price': 123.4, 'amount': 23}\n"
     ]
    }
   ],
   "source": [
    "# JSON\n",
    "import json\n",
    "\n",
    "params = {\n",
    "    'symbol': '123456',\n",
    "    'type': 'limit',\n",
    "    'price': 123.4,\n",
    "    'amount': 23\n",
    "}\n",
    "\n",
    "params_str = json.dumps(params)\n",
    "\n",
    "print('after json serialization')\n",
    "print('type of params_str = {}, params_str = {}'.format(type(params_str), params))\n",
    "\n",
    "original_params = json.loads(params_str)\n",
    "\n",
    "print('after json deserialization')\n",
    "print('type of original_params = {}, original_params = {}'.format(type(original_params), original_params))"
   ]
  },
  {
   "cell_type": "markdown",
   "metadata": {},
   "source": [
    "##### 思考\n",
    "\n",
    "* 制定长度，获取到下一个非字符位置，并存储\n",
    "* 有限容量网盘同步大文件\n",
    "    * 控制文件加状态：服务端传完，客户端才可以读取\n",
    "    * 检测文件是否传完"
   ]
  },
  {
   "cell_type": "code",
   "execution_count": 25,
   "metadata": {},
   "outputs": [
    {
     "name": "stdout",
     "output_type": "stream",
     "text": [
      "[('and', 15), ('be', 13), ('will', 11), ('to', 11), ('the', 10), ('of', 10), ('a', 8), ('we', 8), ('day', 6), ('able', 6), ('every', 6), ('together', 6), ('i', 5), ('have', 5), ('dream', 5), ('that', 5), ('one', 5), ('with', 5), ('this', 5), ('in', 4), ('shall', 4), ('free', 4), ('when', 4), ('little', 3), ('black', 3), ('white', 3), ('made', 3), ('faith', 3), ('at', 3), ('last', 3), ('children', 2), ('nation', 2), ('by', 2), ('their', 2), ('today', 2), ('alabama', 2), ('boys', 2), ('girls', 2), ('join', 2), ('hands', 2), ('mountain', 2), ('places', 2), ('all', 2), ('it', 2), ('our', 2), ('hope', 2), ('up', 2), ('freedom', 2), ('ring', 2), ('from', 2), ('god', 2), ('men', 2), ('my', 1), ('four', 1), ('live', 1), ('where', 1), ('they', 1), ('not', 1), ('judged', 1), ('color', 1), ('skin', 1), ('but', 1), ('content', 1), ('character', 1), ('down', 1), ('its', 1), ('vicious', 1), ('racists', 1), ('right', 1), ('there', 1), ('as', 1), ('sisters', 1), ('brothers', 1), ('valley', 1), ('exalted', 1), ('hill', 1), ('low', 1), ('rough', 1), ('plain', 1), ('crooked', 1), ('straight', 1), ('glory', 1), ('lord', 1), ('revealed', 1), ('flesh', 1), ('see', 1), ('is', 1), ('hew', 1), ('out', 1), ('despair', 1), ('stone', 1), ('transform', 1), ('jangling', 1), ('discords', 1), ('into', 1), ('beautiful', 1), ('symphony', 1), ('brotherhood', 1), ('work', 1), ('pray', 1), ('struggle', 1), ('go', 1), ('jail', 1), ('stand', 1), ('for', 1), ('knowing', 1), ('happens', 1), ('allow', 1), ('let', 1), ('village', 1), ('hamlet', 1), ('state', 1), ('city', 1), ('speed', 1), ('s', 1), ('jews', 1), ('gentiles', 1), ('protestants', 1), ('catholics', 1), ('sing', 1), ('words', 1), ('old', 1), ('negro', 1), ('spiritual', 1), ('thank', 1), ('almighty', 1), ('are', 1)]\n"
     ]
    }
   ],
   "source": [
    "import re\n",
    "\n",
    "CHUNK_SIZE = 100 # 一次最多读取的字符长度\n",
    "\n",
    "# 这个函数每次会接收上一次得到的 last_word，然后和这次的 text 合并起来处理。\n",
    "# 合并后判断最后一个词有没有可能连续，并分离出来，然后返回。\n",
    "# 这里的代码没有 if 语句，但是仍然是正确的，可以想一想为什么。\n",
    "def parse_to_word_list(text, last_word, word_list):\n",
    "    text = re.sub(r'[^\\w ]', ' ', last_word + text)\n",
    "    text = text.lower()\n",
    "    cur_word_list = text.split(' ')\n",
    "    cur_word_list, last_word = cur_word_list[:-1], cur_word_list[-1]\n",
    "    word_list += filter(None, cur_word_list)\n",
    "    \n",
    "    return last_word\n",
    "\n",
    "def solve():\n",
    "    with open('in.txt', 'r') as fin:\n",
    "        word_list, last_word = [], ''\n",
    "        while True:\n",
    "            text = fin.read(CHUNK_SIZE)\n",
    "            if not text:\n",
    "                break # 读取完毕，中断循环\n",
    "            last_word = parse_to_word_list(text, last_word, word_list)\n",
    "\n",
    "        word_cnt = {}\n",
    "        for word in word_list:\n",
    "            if word not in word_cnt:\n",
    "                word_cnt[word] = 0\n",
    "            word_cnt[word] += 1\n",
    "\n",
    "        sorted_word_cnt = sorted(word_cnt.items(), key=lambda kv: kv[1], reverse=True)\n",
    "        return sorted_word_cnt\n",
    "\n",
    "print(solve())"
   ]
  },
  {
   "cell_type": "code",
   "execution_count": 26,
   "metadata": {},
   "outputs": [
    {
     "ename": "IndentationError",
     "evalue": "expected an indented block (<ipython-input-26-9f7caff9aba2>, line 24)",
     "output_type": "error",
     "traceback": [
      "\u001b[0;36m  File \u001b[0;32m\"<ipython-input-26-9f7caff9aba2>\"\u001b[0;36m, line \u001b[0;32m24\u001b[0m\n\u001b[0;31m    main()\u001b[0m\n\u001b[0m       ^\u001b[0m\n\u001b[0;31mIndentationError\u001b[0m\u001b[0;31m:\u001b[0m expected an indented block\n"
     ]
    }
   ],
   "source": [
    " # server.py\n",
    "# 我们假设 server 电脑上的所有的文件都在 BASR_DIR 中，为了简化不考虑文件夹结构，网盘的路径在 NET_DIR\n",
    "\n",
    "import os\n",
    "from shutil import copyfile\n",
    "import time\n",
    "\n",
    "BASE_DIR = 'server/'\n",
    "NET_DIR = 'net/'\n",
    "\n",
    "def main():\n",
    "    filenames = os.listdir(BASE_DIR)\n",
    "    for i, filename in enumerate(filenames):\n",
    "        print('copying {} into net drive... {}/{}'.format(filename, i + 1, len(filenames)))\n",
    "        copyfile(BASE_DIR + filename, NET_DIR + filename)\n",
    "        print('copied {} into net drive, waiting client complete... {}/{}'.format(filename, i + 1, len(filenames)))\n",
    "\n",
    "        while os.path.exists(NET_DIR + filename):\n",
    "            time.sleep(3)\n",
    "\n",
    "    print('transferred {} into client. {}/{}'.format(filename, i + 1, len(filenames)))\n",
    "\n",
    "if __name__ == \"__main__\":\n",
    "main()"
   ]
  },
  {
   "cell_type": "code",
   "execution_count": null,
   "metadata": {},
   "outputs": [],
   "source": [
    "# client.py\n",
    "# 我们假设 client 电脑上要输出的文件夹在 BASR_DIR ，网盘的路径在 NET_DIR\n",
    "\n",
    "import os\n",
    "from shutil import copyfile\n",
    "import time\n",
    "\n",
    "BASE_DIR = 'client/'\n",
    "NET_DIR = 'net/'\n",
    "\n",
    "def main():\n",
    "    while True:\n",
    "        filenames = os.listdir(NET_DIR)\n",
    "        for filename in filenames:\n",
    "            print('downloading {} into local disk...'.format(filename))\n",
    "            copyfile(NET_DIR + filename, BASE_DIR + filename)\n",
    "            os.remove(NET_DIR + filename) # 我们需要删除这个文件，网盘会提我们同步这个操作，从而 server 知晓已完成\n",
    "            print('downloaded {} into local disk.'.format(filename))\n",
    "        time.sleep(3)\n",
    "\n",
    "if __name__ == \"__main__\":\n",
    "main()"
   ]
  }
 ],
 "metadata": {
  "kernelspec": {
   "display_name": "Python 3",
   "language": "python",
   "name": "python3"
  },
  "language_info": {
   "codemirror_mode": {
    "name": "ipython",
    "version": 3
   },
   "file_extension": ".py",
   "mimetype": "text/x-python",
   "name": "python",
   "nbconvert_exporter": "python",
   "pygments_lexer": "ipython3",
   "version": "3.7.6"
  },
  "toc": {
   "base_numbering": 1,
   "nav_menu": {},
   "number_sections": true,
   "sideBar": true,
   "skip_h1_title": false,
   "title_cell": "Table of Contents",
   "title_sidebar": "Contents",
   "toc_cell": false,
   "toc_position": {},
   "toc_section_display": true,
   "toc_window_display": false
  },
  "varInspector": {
   "cols": {
    "lenName": 16,
    "lenType": 16,
    "lenVar": 40
   },
   "kernels_config": {
    "python": {
     "delete_cmd_postfix": "",
     "delete_cmd_prefix": "del ",
     "library": "var_list.py",
     "varRefreshCmd": "print(var_dic_list())"
    },
    "r": {
     "delete_cmd_postfix": ") ",
     "delete_cmd_prefix": "rm(",
     "library": "var_list.r",
     "varRefreshCmd": "cat(var_dic_list()) "
    }
   },
   "types_to_exclude": [
    "module",
    "function",
    "builtin_function_or_method",
    "instance",
    "_Feature"
   ],
   "window_display": false
  }
 },
 "nbformat": 4,
 "nbformat_minor": 4
}
