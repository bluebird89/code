{
 "cells": [
  {
   "cell_type": "markdown",
   "metadata": {},
   "source": [
    "#### 模块化\n",
    "\n",
    "* ，只需要使用 . 代替 /  来表示子目录,调用子目录的模块时\n",
    "* sys.path.append(\"..\") 表示将当前程序所在位置向上提了一级\n",
    "* 在 Python 3 规范中，__init__.py 并不是必须的\n",
    "* 在大型工程中尽可能使用绝对位置是第一要义\n",
    "* 相对的绝对路径:对于一个独立的项目，所有模块的追寻方式，从项目的根目录开始追溯\n",
    "* 整个公司都只有一个代码仓库\n",
    "    - 简化依赖管理\n",
    "    - 版本统一\n",
    "    * 代码追溯方便\n",
    "* Python 解释器在遇到 import 的时候，它会在一个特定的列表中寻找模块　`sys.path`\n",
    "    - 第一项为空。Pycharm 做的一件事，就是将第一项设置为项目根目录的绝对地址\n",
    "    - 修改 PYTHONHOM: 找到一个文件叫 activate，在这个文件的末尾，填上内容 `export PYTHONPATH=\"/home/ubuntu/workspace/your_projects\"`\n",
    "* 对于每一个项目来说，最好要有一个独立的运行环境来保持包和模块的纯净性\n",
    "* 用if __name__ == '__main__'来避开 import 时执行\n",
    "* from module_name import * 会把 module 中所有的函数和类全拿过来，如果和其他函数名类名有冲突就会出问题\n",
    "* import model_name 也会导入所有函数和类，但是调用的时候必须使用 model_name.func 的方法来调用，等于增加了一层 layer，有效避免冲突"
   ]
  }
 ],
 "metadata": {
  "kernelspec": {
   "display_name": "Python 3",
   "language": "python",
   "name": "python3"
  },
  "language_info": {
   "codemirror_mode": {
    "name": "ipython",
    "version": 3
   },
   "file_extension": ".py",
   "mimetype": "text/x-python",
   "name": "python",
   "nbconvert_exporter": "python",
   "pygments_lexer": "ipython3",
   "version": "3.7.7"
  },
  "toc": {
   "base_numbering": 1,
   "nav_menu": {},
   "number_sections": true,
   "sideBar": true,
   "skip_h1_title": false,
   "title_cell": "Table of Contents",
   "title_sidebar": "Contents",
   "toc_cell": false,
   "toc_position": {},
   "toc_section_display": true,
   "toc_window_display": false
  },
  "varInspector": {
   "cols": {
    "lenName": 16,
    "lenType": 16,
    "lenVar": 40
   },
   "kernels_config": {
    "python": {
     "delete_cmd_postfix": "",
     "delete_cmd_prefix": "del ",
     "library": "var_list.py",
     "varRefreshCmd": "print(var_dic_list())"
    },
    "r": {
     "delete_cmd_postfix": ") ",
     "delete_cmd_prefix": "rm(",
     "library": "var_list.r",
     "varRefreshCmd": "cat(var_dic_list()) "
    }
   },
   "types_to_exclude": [
    "module",
    "function",
    "builtin_function_or_method",
    "instance",
    "_Feature"
   ],
   "window_display": false
  }
 },
 "nbformat": 4,
 "nbformat_minor": 4
}
