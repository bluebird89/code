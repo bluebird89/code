{
 "cells": [
  {
   "cell_type": "markdown",
   "metadata": {},
   "source": [
    "'hello world'"
   ]
  },
  {
   "cell_type": "code",
   "execution_count": 24,
   "metadata": {},
   "outputs": [],
   "source": [
    "str = 'hello'"
   ]
  },
  {
   "cell_type": "code",
   "execution_count": 30,
   "metadata": {},
   "outputs": [
    {
     "data": {
      "text/plain": [
       "'heuuo'"
      ]
     },
     "execution_count": 30,
     "metadata": {},
     "output_type": "execute_result"
    }
   ],
   "source": [
    "s = str.replace('l', 'u', 2)\n",
    "s"
   ]
  },
  {
   "cell_type": "code",
   "execution_count": 31,
   "metadata": {},
   "outputs": [],
   "source": [
    "%matplotlib inline"
   ]
  },
  {
   "cell_type": "code",
   "execution_count": 32,
   "metadata": {},
   "outputs": [
    {
     "data": {
      "text/plain": [
       "{'XDG_SEAT': 'seat0',\n",
       " 'XDG_SESSION_ID': '9',\n",
       " 'WINDOWPATH': '2',\n",
       " 'LC_IDENTIFICATION': 'zh_CN.UTF-8',\n",
       " 'DISPLAY': ':0',\n",
       " 'SESSION_MANAGER': 'local/henry-ubuntu:@/tmp/.ICE-unix/3133,unix/henry-ubuntu:/tmp/.ICE-unix/3133',\n",
       " 'COLORTERM': 'truecolor',\n",
       " 'GNOME_TERMINAL_SERVICE': ':1.149',\n",
       " 'GNOME_DESKTOP_SESSION_ID': 'this-is-deprecated',\n",
       " 'DEFAULTS_PATH': '/usr/share/gconf/ubuntu.default.path',\n",
       " 'LOGNAME': 'henry',\n",
       " 'TEXTDOMAIN': 'im-config',\n",
       " 'JAVA_HOME': '/usr/lib/jvm/java-11-oracle',\n",
       " 'SHELL': '/usr/bin/zsh',\n",
       " 'LC_TIME': 'zh_CN.UTF-8',\n",
       " 'PATH': '/home/henry/anaconda3/bin:/home/henry/anaconda3/bin:/home/henry/.rbenv/shims:/home/henry/.rbenv/bin:/home/henry/bin:/usr/local/bin:/home/henry/.npm-global/bin:/home/henry/.local/bin:/home/henry/bin:/usr/local/sbin:/usr/local/bin:/usr/sbin:/usr/bin:/sbin:/bin:/usr/games:/usr/local/games:/snap/bin:/usr/lib/jvm/java-11-oracle/bin:/usr/lib/jvm/java-11-oracle/db/bin:/usr/local/go/bin:/usr/local/node-v10.4.0/bin:/home/henry/.config/composer/vendor/bin:/user/henry/script',\n",
       " 'LC_NUMERIC': 'zh_CN.UTF-8',\n",
       " 'LC_PAPER': 'zh_CN.UTF-8',\n",
       " 'TEXTDOMAINDIR': '/usr/share/locale/',\n",
       " 'IM_CONFIG_PHASE': '2',\n",
       " 'CLUTTER_IM_MODULE': 'xim',\n",
       " 'QT4_IM_MODULE': 'fcitx',\n",
       " 'XMODIFIERS': '@im=fcitx',\n",
       " 'J2REDIR': '/usr/lib/jvm/java-11-oracle',\n",
       " 'XDG_MENU_PREFIX': 'gnome-',\n",
       " 'XAUTHORITY': '/run/user/1000/gdm/Xauthority',\n",
       " 'XDG_SESSION_DESKTOP': 'ubuntu',\n",
       " 'GDMSESSION': 'ubuntu',\n",
       " 'QT_IM_MODULE': 'fcitx',\n",
       " 'SSH_AUTH_SOCK': '/run/user/1000/keyring/ssh',\n",
       " 'LC_ADDRESS': 'zh_CN.UTF-8',\n",
       " 'LC_MEASUREMENT': 'zh_CN.UTF-8',\n",
       " 'GNOME_SHELL_SESSION_MODE': 'ubuntu',\n",
       " 'XDG_CONFIG_DIRS': '/etc/xdg/xdg-ubuntu:/etc/xdg',\n",
       " 'MANDATORY_PATH': '/usr/share/gconf/ubuntu.mandatory.path',\n",
       " 'USERNAME': 'henry',\n",
       " 'DESKTOP_SESSION': 'ubuntu',\n",
       " 'XDG_RUNTIME_DIR': '/run/user/1000',\n",
       " 'GTK_IM_MODULE': 'fcitx',\n",
       " 'USER': 'henry',\n",
       " 'GTK_MODULES': 'gail:atk-bridge',\n",
       " 'PWD': '/home/henry/Documents/Workspace/Code/Python/jupyter',\n",
       " 'DERBY_HOME': '/usr/lib/jvm/java-11-oracle/db',\n",
       " 'LC_MONETARY': 'zh_CN.UTF-8',\n",
       " 'VTE_VERSION': '5202',\n",
       " 'HOME': '/home/henry',\n",
       " 'QT_ACCESSIBILITY': '1',\n",
       " 'SSH_AGENT_PID': '3224',\n",
       " 'XDG_DATA_DIRS': '/usr/share/ubuntu:/usr/local/share:/usr/share:/var/lib/snapd/desktop',\n",
       " 'LANG': 'en_US.UTF-8',\n",
       " 'LC_NAME': 'zh_CN.UTF-8',\n",
       " 'GNOME_TERMINAL_SCREEN': '/org/gnome/Terminal/screen/53321d71_e6be_4d1a_8536_74921af4c403',\n",
       " 'GPG_AGENT_INFO': '/run/user/1000/gnupg/S.gpg-agent:0:1',\n",
       " 'SHLVL': '1',\n",
       " 'J2SDKDIR': '/usr/lib/jvm/java-11-oracle',\n",
       " 'XDG_VTNR': '2',\n",
       " 'TERM': 'xterm-color',\n",
       " 'DBUS_SESSION_BUS_ADDRESS': 'unix:path=/run/user/1000/bus',\n",
       " 'XDG_CURRENT_DESKTOP': 'ubuntu:GNOME',\n",
       " 'XDG_SESSION_TYPE': 'x11',\n",
       " 'S_COLORS': 'auto',\n",
       " 'LC_TELEPHONE': 'zh_CN.UTF-8',\n",
       " 'OLDPWD': '/home/henry/Documents/Workspace',\n",
       " 'ZSH': '/home/henry/.oh-my-zsh',\n",
       " 'PAGER': 'cat',\n",
       " 'LESS': '-R',\n",
       " 'LC_CTYPE': 'en_US.UTF-8',\n",
       " 'LSCOLORS': 'Gxfxcxdxbxegedabagacad',\n",
       " 'LS_COLORS': 'rs=0:di=01;34:ln=01;36:mh=00:pi=40;33:so=01;35:do=01;35:bd=40;33;01:cd=40;33;01:or=40;31;01:mi=00:su=37;41:sg=30;43:ca=30;41:tw=30;42:ow=34;42:st=37;44:ex=01;32:*.tar=01;31:*.tgz=01;31:*.arc=01;31:*.arj=01;31:*.taz=01;31:*.lha=01;31:*.lz4=01;31:*.lzh=01;31:*.lzma=01;31:*.tlz=01;31:*.txz=01;31:*.tzo=01;31:*.t7z=01;31:*.zip=01;31:*.z=01;31:*.Z=01;31:*.dz=01;31:*.gz=01;31:*.lrz=01;31:*.lz=01;31:*.lzo=01;31:*.xz=01;31:*.zst=01;31:*.tzst=01;31:*.bz2=01;31:*.bz=01;31:*.tbz=01;31:*.tbz2=01;31:*.tz=01;31:*.deb=01;31:*.rpm=01;31:*.jar=01;31:*.war=01;31:*.ear=01;31:*.sar=01;31:*.rar=01;31:*.alz=01;31:*.ace=01;31:*.zoo=01;31:*.cpio=01;31:*.7z=01;31:*.rz=01;31:*.cab=01;31:*.wim=01;31:*.swm=01;31:*.dwm=01;31:*.esd=01;31:*.jpg=01;35:*.jpeg=01;35:*.mjpg=01;35:*.mjpeg=01;35:*.gif=01;35:*.bmp=01;35:*.pbm=01;35:*.pgm=01;35:*.ppm=01;35:*.tga=01;35:*.xbm=01;35:*.xpm=01;35:*.tif=01;35:*.tiff=01;35:*.png=01;35:*.svg=01;35:*.svgz=01;35:*.mng=01;35:*.pcx=01;35:*.mov=01;35:*.mpg=01;35:*.mpeg=01;35:*.m2v=01;35:*.mkv=01;35:*.webm=01;35:*.ogm=01;35:*.mp4=01;35:*.m4v=01;35:*.mp4v=01;35:*.vob=01;35:*.qt=01;35:*.nuv=01;35:*.wmv=01;35:*.asf=01;35:*.rm=01;35:*.rmvb=01;35:*.flc=01;35:*.avi=01;35:*.fli=01;35:*.flv=01;35:*.gl=01;35:*.dl=01;35:*.xcf=01;35:*.xwd=01;35:*.yuv=01;35:*.cgm=01;35:*.emf=01;35:*.ogv=01;35:*.ogx=01;35:*.aac=00;36:*.au=00;36:*.flac=00;36:*.m4a=00;36:*.mid=00;36:*.midi=00;36:*.mka=00;36:*.mp3=00;36:*.mpc=00;36:*.ogg=00;36:*.ra=00;36:*.wav=00;36:*.oga=00;36:*.opus=00;36:*.spx=00;36:*.xspf=00;36:',\n",
       " 'SPACESHIP_VERSION': '3.9.0',\n",
       " 'SPACESHIP_ROOT': '/home/henry/.oh-my-zsh/custom/themes/spaceship-prompt',\n",
       " 'DEFAULT_USER': 'henry',\n",
       " 'GOBIN': '/home/henry/projects/bin',\n",
       " 'GOPATH': '/home/henry/projects/src',\n",
       " 'GOROOT': '/usr/local/go',\n",
       " 'RBENV_SHELL': 'zsh',\n",
       " '_': '/home/henry/anaconda3/bin/jupyter',\n",
       " 'JPY_PARENT_PID': '32573',\n",
       " 'CLICOLOR': '1',\n",
       " 'GIT_PAGER': 'cat',\n",
       " 'MPLBACKEND': 'module://ipykernel.pylab.backend_inline'}"
      ]
     },
     "execution_count": 32,
     "metadata": {},
     "output_type": "execute_result"
    }
   ],
   "source": [
    "%env"
   ]
  },
  {
   "cell_type": "code",
   "execution_count": 35,
   "metadata": {},
   "outputs": [
    {
     "name": "stdout",
     "output_type": "stream",
     "text": [
      "CPU times: user 24.2 ms, sys: 21.8 ms, total: 46 ms\n",
      "Wall time: 10.1 s\n"
     ]
    }
   ],
   "source": [
    " %%time \n",
    "        import time \n",
    "        for _ in range(1000): \n",
    "            time.sleep(0.01)"
   ]
  },
  {
   "cell_type": "code",
   "execution_count": 37,
   "metadata": {},
   "outputs": [
    {
     "name": "stdout",
     "output_type": "stream",
     "text": [
      "s\t str\t time\t \n"
     ]
    }
   ],
   "source": [
    "%who"
   ]
  },
  {
   "cell_type": "code",
   "execution_count": 40,
   "metadata": {},
   "outputs": [
    {
     "name": "stdout",
     "output_type": "stream",
     "text": [
      "9.39 µs ± 532 ns per loop (mean ± std. dev. of 7 runs, 100000 loops each)\n"
     ]
    }
   ],
   "source": [
    "import numpy \n",
    "%timeit numpy.random.normal(size=100)"
   ]
  },
  {
   "cell_type": "code",
   "execution_count": 43,
   "metadata": {},
   "outputs": [
    {
     "data": {
      "image/png": "[encoded data removed]",
      "text/plain": [
       "<Figure size 432x288 with 1 Axes>"
      ]
     },
     "metadata": {},
     "output_type": "display_data"
    }
   ],
   "source": [
    "from matplotlib import pyplot as plt \n",
    "import numpy \n",
    "x = numpy.linspace(0, 1, 1000)**1.5\n",
    "plt.hist(x);"
   ]
  },
  {
   "cell_type": "code",
   "execution_count": 45,
   "metadata": {},
   "outputs": [
    {
     "name": "stdout",
     "output_type": "stream",
     "text": [
      "'API Star'   crawler_1.py   jupyter\t        module.py   Sanic\r\n",
      " basic1.py   itchat\t    learnbyhardway.py   run\t    test.py\r\n"
     ]
    }
   ],
   "source": [
    "!ls ../"
   ]
  },
  {
   "cell_type": "markdown",
   "metadata": {},
   "source": [
    "$$ P(A \\mid B) = \\frac{P(B \\mid A) , P(A)}{P(B)} $$"
   ]
  },
  {
   "cell_type": "code",
   "execution_count": 51,
   "metadata": {},
   "outputs": [
    {
     "data": {
      "text/html": [
       "<h1> hello </h1>\n",
       "<span> test </span>"
      ],
      "text/plain": [
       "<IPython.core.display.HTML object>"
      ]
     },
     "metadata": {},
     "output_type": "display_data"
    }
   ],
   "source": [
    "%%html\n",
    "<h1> hello </h1>\n",
    "<span> test </span>"
   ]
  },
  {
   "cell_type": "code",
   "execution_count": 52,
   "metadata": {},
   "outputs": [
    {
     "name": "stdout",
     "output_type": "stream",
     "text": [
      "i is 1\n",
      "i is 2\n",
      "i is 3\n",
      "i is 4\n",
      "i is 5\n"
     ]
    }
   ],
   "source": [
    "%%bash\n",
    "for i in {1..5}\n",
    "    do \n",
    "        echo \"i is $i\"\n",
    "    done\n",
    "    "
   ]
  },
  {
   "cell_type": "code",
   "execution_count": 54,
   "metadata": {},
   "outputs": [
    {
     "data": {
      "text/html": [
       "<div>\n",
       "<style scoped>\n",
       "    .dataframe tbody tr th:only-of-type {\n",
       "        vertical-align: middle;\n",
       "    }\n",
       "\n",
       "    .dataframe tbody tr th {\n",
       "        vertical-align: top;\n",
       "    }\n",
       "\n",
       "    .dataframe thead th {\n",
       "        text-align: right;\n",
       "    }\n",
       "</style>\n",
       "<table border=\"1\" class=\"dataframe\">\n",
       "  <thead>\n",
       "    <tr style=\"text-align: right;\">\n",
       "      <th></th>\n",
       "      <th>Letter</th>\n",
       "      <th>X</th>\n",
       "      <th>Y</th>\n",
       "      <th>Z</th>\n",
       "    </tr>\n",
       "  </thead>\n",
       "  <tbody>\n",
       "    <tr>\n",
       "      <th>0</th>\n",
       "      <td>a</td>\n",
       "      <td>4</td>\n",
       "      <td>0</td>\n",
       "      <td>1</td>\n",
       "    </tr>\n",
       "    <tr>\n",
       "      <th>1</th>\n",
       "      <td>a</td>\n",
       "      <td>3</td>\n",
       "      <td>4</td>\n",
       "      <td>2</td>\n",
       "    </tr>\n",
       "    <tr>\n",
       "      <th>2</th>\n",
       "      <td>a</td>\n",
       "      <td>5</td>\n",
       "      <td>3</td>\n",
       "      <td>3</td>\n",
       "    </tr>\n",
       "    <tr>\n",
       "      <th>3</th>\n",
       "      <td>b</td>\n",
       "      <td>2</td>\n",
       "      <td>6</td>\n",
       "      <td>1</td>\n",
       "    </tr>\n",
       "    <tr>\n",
       "      <th>4</th>\n",
       "      <td>b</td>\n",
       "      <td>1</td>\n",
       "      <td>7</td>\n",
       "      <td>2</td>\n",
       "    </tr>\n",
       "    <tr>\n",
       "      <th>5</th>\n",
       "      <td>b</td>\n",
       "      <td>7</td>\n",
       "      <td>10</td>\n",
       "      <td>3</td>\n",
       "    </tr>\n",
       "    <tr>\n",
       "      <th>6</th>\n",
       "      <td>c</td>\n",
       "      <td>7</td>\n",
       "      <td>11</td>\n",
       "      <td>1</td>\n",
       "    </tr>\n",
       "    <tr>\n",
       "      <th>7</th>\n",
       "      <td>c</td>\n",
       "      <td>5</td>\n",
       "      <td>9</td>\n",
       "      <td>2</td>\n",
       "    </tr>\n",
       "    <tr>\n",
       "      <th>8</th>\n",
       "      <td>c</td>\n",
       "      <td>9</td>\n",
       "      <td>13</td>\n",
       "      <td>3</td>\n",
       "    </tr>\n",
       "  </tbody>\n",
       "</table>\n",
       "</div>"
      ],
      "text/plain": [
       "  Letter  X   Y  Z\n",
       "0      a  4   0  1\n",
       "1      a  3   4  2\n",
       "2      a  5   3  3\n",
       "3      b  2   6  1\n",
       "4      b  1   7  2\n",
       "5      b  7  10  3\n",
       "6      c  7  11  1\n",
       "7      c  5   9  2\n",
       "8      c  9  13  3"
      ]
     },
     "execution_count": 54,
     "metadata": {},
     "output_type": "execute_result"
    }
   ],
   "source": [
    "import pandas as pd\n",
    "df = pd.DataFrame({ 'Letter': ['a', 'a', 'a', 'b', 'b', 'b', 'c', 'c', 'c'], 'X': [4, 3, 5, 2, 1, 7, 7, 5, 9], 'Y': [0, 4, 3, 6, 7, 10, 11, 9, 13], 'Z': [1, 2, 3, 1, 2, 3, 1, 2, 3] })\n",
    "df"
   ]
  },
  {
   "cell_type": "code",
   "execution_count": 55,
   "metadata": {},
   "outputs": [
    {
     "name": "stdout",
     "output_type": "stream",
     "text": [
      "Requirement already satisfied: cython in /home/henry/anaconda3/lib/python3.6/site-packages (0.28.2)\n",
      "Collecting fortran-magic\n",
      "  Downloading https://files.pythonhosted.org/packages/53/b1/d664bd431354c450f40fa436b2c9306666cd417b23098dd5636751c557a4/fortran_magic-0.7-py3-none-any.whl\n",
      "Requirement already satisfied: ipython in /home/henry/anaconda3/lib/python3.6/site-packages (from fortran-magic) (6.4.0)\n",
      "Requirement already satisfied: numpy in /home/henry/anaconda3/lib/python3.6/site-packages (from fortran-magic) (1.14.3)\n",
      "Requirement already satisfied: jedi>=0.10 in /home/henry/anaconda3/lib/python3.6/site-packages (from ipython->fortran-magic) (0.12.0)\n",
      "Requirement already satisfied: traitlets>=4.2 in /home/henry/anaconda3/lib/python3.6/site-packages (from ipython->fortran-magic) (4.3.2)\n",
      "Requirement already satisfied: prompt-toolkit<2.0.0,>=1.0.15 in /home/henry/anaconda3/lib/python3.6/site-packages (from ipython->fortran-magic) (1.0.15)\n",
      "Requirement already satisfied: setuptools>=18.5 in /home/henry/anaconda3/lib/python3.6/site-packages (from ipython->fortran-magic) (39.1.0)\n",
      "Requirement already satisfied: decorator in /home/henry/anaconda3/lib/python3.6/site-packages (from ipython->fortran-magic) (4.3.0)\n",
      "Requirement already satisfied: pickleshare in /home/henry/anaconda3/lib/python3.6/site-packages (from ipython->fortran-magic) (0.7.4)\n",
      "Requirement already satisfied: pygments in /home/henry/anaconda3/lib/python3.6/site-packages (from ipython->fortran-magic) (2.2.0)\n",
      "Requirement already satisfied: simplegeneric>0.8 in /home/henry/anaconda3/lib/python3.6/site-packages (from ipython->fortran-magic) (0.8.1)\n",
      "Requirement already satisfied: pexpect; sys_platform != \"win32\" in /home/henry/anaconda3/lib/python3.6/site-packages (from ipython->fortran-magic) (4.5.0)\n",
      "Requirement already satisfied: backcall in /home/henry/anaconda3/lib/python3.6/site-packages (from ipython->fortran-magic) (0.1.0)\n",
      "Requirement already satisfied: parso>=0.2.0 in /home/henry/anaconda3/lib/python3.6/site-packages (from jedi>=0.10->ipython->fortran-magic) (0.2.0)\n",
      "Requirement already satisfied: ipython_genutils in /home/henry/anaconda3/lib/python3.6/site-packages (from traitlets>=4.2->ipython->fortran-magic) (0.2.0)\n",
      "Requirement already satisfied: six in /home/henry/anaconda3/lib/python3.6/site-packages (from traitlets>=4.2->ipython->fortran-magic) (1.11.0)\n",
      "Requirement already satisfied: wcwidth in /home/henry/anaconda3/lib/python3.6/site-packages (from prompt-toolkit<2.0.0,>=1.0.15->ipython->fortran-magic) (0.1.7)\n",
      "Requirement already satisfied: ptyprocess>=0.5 in /home/henry/anaconda3/lib/python3.6/site-packages (from pexpect; sys_platform != \"win32\"->ipython->fortran-magic) (0.5.2)\n",
      "Installing collected packages: fortran-magic\n",
      "Successfully installed fortran-magic-0.7\n"
     ]
    }
   ],
   "source": [
    "!pip install cython fortran-magic "
   ]
  },
  {
   "cell_type": "code",
   "execution_count": 57,
   "metadata": {},
   "outputs": [],
   "source": [
    "%load_ext Cython"
   ]
  },
  {
   "cell_type": "code",
   "execution_count": 58,
   "metadata": {},
   "outputs": [],
   "source": [
    "%%cython \n",
    "def myltiply_by_2(float x): \n",
    "    return 2.0 * x\n",
    "myltiply_by_2(23.)"
   ]
  },
  {
   "cell_type": "code",
   "execution_count": null,
   "metadata": {},
   "outputs": [],
   "source": [
    "x= [\n",
    "    'one',\n",
    "    'two',\n",
    "    'three',\n",
    "    'four'\n",
    "]"
   ]
  },
  {
   "cell_type": "markdown",
   "metadata": {},
   "source": [
    "# hello world"
   ]
  },
  {
   "cell_type": "code",
   "execution_count": 59,
   "metadata": {},
   "outputs": [],
   "source": [
    "%matplotlib inline"
   ]
  }
 ],
 "metadata": {
  "kernelspec": {
   "display_name": "Python 3",
   "language": "python",
   "name": "python3"
  },
  "language_info": {
   "codemirror_mode": {
    "name": "ipython",
    "version": 3
   },
   "file_extension": ".py",
   "mimetype": "text/x-python",
   "name": "python",
   "nbconvert_exporter": "python",
   "pygments_lexer": "ipython3",
   "version": "3.6.5"
  },
  "latex_envs": {
   "LaTeX_envs_menu_present": true,
   "autoclose": false,
   "autocomplete": true,
   "bibliofile": "biblio.bib",
   "cite_by": "apalike",
   "current_citInitial": 1,
   "eqLabelWithNumbers": true,
   "eqNumInitial": 1,
   "hotkeys": {
    "equation": "Ctrl-E",
    "itemize": "Ctrl-I"
   },
   "labels_anchors": false,
   "latex_user_defs": false,
   "report_style_numbering": false,
   "user_envs_cfg": false
  }
 },
 "nbformat": 4,
 "nbformat_minor": 2
}